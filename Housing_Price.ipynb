{
 "cells": [
  {
   "cell_type": "code",
   "execution_count": null,
   "id": "dc5981ae-45e5-481b-93a3-9f2142e08c98",
   "metadata": {},
   "outputs": [],
   "source": [
    "# IMPORT THE VARIOUS LIBRARIES NEEDED"
   ]
  },
  {
   "cell_type": "code",
   "execution_count": 361,
   "id": "3b694c1e-6147-4484-8b71-f8b2fe480de4",
   "metadata": {
    "tags": []
   },
   "outputs": [],
   "source": [
    "import pandas as pd\n",
    "import numpy as np\n",
    "from matplotlib import pyplot as plt\n",
    "%matplotlib inline\n",
    "import matplotlib\n",
    "matplotlib.rcParams[\"figure.figsize\"] = (20,10)"
   ]
  },
  {
   "cell_type": "code",
   "execution_count": null,
   "id": "53a973a0-67d9-457e-89fd-f94a92498811",
   "metadata": {},
   "outputs": [],
   "source": [
    "# Read the CSV file needed Train/Test and see the columns"
   ]
  },
  {
   "cell_type": "code",
   "execution_count": 362,
   "id": "8a5ae317-a56d-47dd-99bd-9301b931e941",
   "metadata": {
    "tags": []
   },
   "outputs": [
    {
     "data": {
      "text/html": [
       "<div>\n",
       "<style scoped>\n",
       "    .dataframe tbody tr th:only-of-type {\n",
       "        vertical-align: middle;\n",
       "    }\n",
       "\n",
       "    .dataframe tbody tr th {\n",
       "        vertical-align: top;\n",
       "    }\n",
       "\n",
       "    .dataframe thead th {\n",
       "        text-align: right;\n",
       "    }\n",
       "</style>\n",
       "<table border=\"1\" class=\"dataframe\">\n",
       "  <thead>\n",
       "    <tr style=\"text-align: right;\">\n",
       "      <th></th>\n",
       "      <th>ID</th>\n",
       "      <th>loc</th>\n",
       "      <th>title</th>\n",
       "      <th>bedroom</th>\n",
       "      <th>bathroom</th>\n",
       "      <th>parking_space</th>\n",
       "      <th>price</th>\n",
       "    </tr>\n",
       "  </thead>\n",
       "  <tbody>\n",
       "    <tr>\n",
       "      <th>0</th>\n",
       "      <td>3583</td>\n",
       "      <td>Katsina</td>\n",
       "      <td>Semi-detached duplex</td>\n",
       "      <td>2.0</td>\n",
       "      <td>2.0</td>\n",
       "      <td>1.0</td>\n",
       "      <td>1149999.565</td>\n",
       "    </tr>\n",
       "    <tr>\n",
       "      <th>1</th>\n",
       "      <td>2748</td>\n",
       "      <td>Ondo</td>\n",
       "      <td>Apartment</td>\n",
       "      <td>NaN</td>\n",
       "      <td>2.0</td>\n",
       "      <td>4.0</td>\n",
       "      <td>1672416.689</td>\n",
       "    </tr>\n",
       "    <tr>\n",
       "      <th>2</th>\n",
       "      <td>9261</td>\n",
       "      <td>Ekiti</td>\n",
       "      <td>NaN</td>\n",
       "      <td>7.0</td>\n",
       "      <td>5.0</td>\n",
       "      <td>NaN</td>\n",
       "      <td>3364799.814</td>\n",
       "    </tr>\n",
       "    <tr>\n",
       "      <th>3</th>\n",
       "      <td>2224</td>\n",
       "      <td>Anambra</td>\n",
       "      <td>Detached duplex</td>\n",
       "      <td>5.0</td>\n",
       "      <td>2.0</td>\n",
       "      <td>4.0</td>\n",
       "      <td>2410306.756</td>\n",
       "    </tr>\n",
       "    <tr>\n",
       "      <th>4</th>\n",
       "      <td>10300</td>\n",
       "      <td>Kogi</td>\n",
       "      <td>Terrace duplex</td>\n",
       "      <td>NaN</td>\n",
       "      <td>5.0</td>\n",
       "      <td>6.0</td>\n",
       "      <td>2600700.898</td>\n",
       "    </tr>\n",
       "  </tbody>\n",
       "</table>\n",
       "</div>"
      ],
      "text/plain": [
       "      ID      loc                 title  bedroom  bathroom  parking_space  \\\n",
       "0   3583  Katsina  Semi-detached duplex      2.0       2.0            1.0   \n",
       "1   2748     Ondo             Apartment      NaN       2.0            4.0   \n",
       "2   9261    Ekiti                   NaN      7.0       5.0            NaN   \n",
       "3   2224  Anambra       Detached duplex      5.0       2.0            4.0   \n",
       "4  10300     Kogi        Terrace duplex      NaN       5.0            6.0   \n",
       "\n",
       "         price  \n",
       "0  1149999.565  \n",
       "1  1672416.689  \n",
       "2  3364799.814  \n",
       "3  2410306.756  \n",
       "4  2600700.898  "
      ]
     },
     "execution_count": 362,
     "metadata": {},
     "output_type": "execute_result"
    }
   ],
   "source": [
    "df1 = pd.read_csv('C:/Users/DAVID/Documents/Housing_dataset_train.csv')\n",
    "df1.head()"
   ]
  },
  {
   "cell_type": "code",
   "execution_count": null,
   "id": "0e1b9d9d-2064-42a5-88a1-8231402b07e7",
   "metadata": {},
   "outputs": [],
   "source": [
    "#Get the rows and columns of the Data"
   ]
  },
  {
   "cell_type": "code",
   "execution_count": 363,
   "id": "704404d6-b1b5-4dd4-966e-d1ff29f7360f",
   "metadata": {
    "tags": []
   },
   "outputs": [
    {
     "data": {
      "text/plain": [
       "(14000, 7)"
      ]
     },
     "execution_count": 363,
     "metadata": {},
     "output_type": "execute_result"
    }
   ],
   "source": [
    "df1.shape"
   ]
  },
  {
   "cell_type": "code",
   "execution_count": null,
   "id": "0ce5c824-5a71-4f51-be27-5b4aa93ab1e3",
   "metadata": {},
   "outputs": [],
   "source": [
    "#Find the number of houses by Location"
   ]
  },
  {
   "cell_type": "code",
   "execution_count": 364,
   "id": "8d30b811-4bdc-44b6-bd8f-96dcdd9b6241",
   "metadata": {
    "tags": []
   },
   "outputs": [
    {
     "data": {
      "text/plain": [
       "loc\n",
       "Abia           312\n",
       "Adamawa        341\n",
       "Akwa Ibom      329\n",
       "Anambra        363\n",
       "Bauchi         342\n",
       "Bayelsa        340\n",
       "Benue          355\n",
       "Borno          351\n",
       "Cross River    349\n",
       "Delta          325\n",
       "Ebonyi         346\n",
       "Edo            302\n",
       "Ekiti          336\n",
       "Enugu          324\n",
       "Gombe          343\n",
       "Imo            348\n",
       "Jigawa         337\n",
       "Kaduna         370\n",
       "Kano           351\n",
       "Katsina        345\n",
       "Kebbi          346\n",
       "Kogi           321\n",
       "Kwara          333\n",
       "Lagos          328\n",
       "Nasarawa       349\n",
       "Niger          330\n",
       "Ogun           345\n",
       "Ondo           344\n",
       "Osun           338\n",
       "Oyo            341\n",
       "Plateau        338\n",
       "Rivers         323\n",
       "Sokoto         326\n",
       "Taraba         315\n",
       "Yobe           353\n",
       "Zamfara        348\n",
       "Name: loc, dtype: int64"
      ]
     },
     "execution_count": 364,
     "metadata": {},
     "output_type": "execute_result"
    }
   ],
   "source": [
    "df1.groupby('loc')['loc'].agg('count')"
   ]
  },
  {
   "cell_type": "code",
   "execution_count": null,
   "id": "54d5c773-3932-43f7-9255-463867a841bb",
   "metadata": {},
   "outputs": [],
   "source": [
    "#Find the number of Houses by title"
   ]
  },
  {
   "cell_type": "code",
   "execution_count": 365,
   "id": "c714c9f5-c07f-4ee4-a050-39c27b42a0cf",
   "metadata": {
    "tags": []
   },
   "outputs": [
    {
     "data": {
      "text/plain": [
       "title\n",
       "Apartment               1331\n",
       "Bungalow                1293\n",
       "Cottage                  450\n",
       "Detached duplex         1312\n",
       "Flat                    1372\n",
       "Mansion                 1322\n",
       "Penthouse               1306\n",
       "Semi-detached duplex    1299\n",
       "Terrace duplex          1266\n",
       "Townhouse               1327\n",
       "Name: title, dtype: int64"
      ]
     },
     "execution_count": 365,
     "metadata": {},
     "output_type": "execute_result"
    }
   ],
   "source": [
    "df1.groupby('title')['title'].agg('count')"
   ]
  },
  {
   "cell_type": "code",
   "execution_count": null,
   "id": "4ccef1ce-95f4-46bd-9b36-e878b6829047",
   "metadata": {},
   "outputs": [],
   "source": [
    "# remove the ID column since it is not essential for the analysis"
   ]
  },
  {
   "cell_type": "code",
   "execution_count": 367,
   "id": "2276b4d3-162f-400d-b2d5-de9f7e764ab4",
   "metadata": {
    "tags": []
   },
   "outputs": [
    {
     "data": {
      "text/html": [
       "<div>\n",
       "<style scoped>\n",
       "    .dataframe tbody tr th:only-of-type {\n",
       "        vertical-align: middle;\n",
       "    }\n",
       "\n",
       "    .dataframe tbody tr th {\n",
       "        vertical-align: top;\n",
       "    }\n",
       "\n",
       "    .dataframe thead th {\n",
       "        text-align: right;\n",
       "    }\n",
       "</style>\n",
       "<table border=\"1\" class=\"dataframe\">\n",
       "  <thead>\n",
       "    <tr style=\"text-align: right;\">\n",
       "      <th></th>\n",
       "      <th>loc</th>\n",
       "      <th>title</th>\n",
       "      <th>bedroom</th>\n",
       "      <th>bathroom</th>\n",
       "      <th>parking_space</th>\n",
       "      <th>price</th>\n",
       "    </tr>\n",
       "  </thead>\n",
       "  <tbody>\n",
       "    <tr>\n",
       "      <th>0</th>\n",
       "      <td>Katsina</td>\n",
       "      <td>Semi-detached duplex</td>\n",
       "      <td>2.0</td>\n",
       "      <td>2.0</td>\n",
       "      <td>1.0</td>\n",
       "      <td>1149999.565</td>\n",
       "    </tr>\n",
       "    <tr>\n",
       "      <th>1</th>\n",
       "      <td>Ondo</td>\n",
       "      <td>Apartment</td>\n",
       "      <td>NaN</td>\n",
       "      <td>2.0</td>\n",
       "      <td>4.0</td>\n",
       "      <td>1672416.689</td>\n",
       "    </tr>\n",
       "    <tr>\n",
       "      <th>2</th>\n",
       "      <td>Ekiti</td>\n",
       "      <td>NaN</td>\n",
       "      <td>7.0</td>\n",
       "      <td>5.0</td>\n",
       "      <td>NaN</td>\n",
       "      <td>3364799.814</td>\n",
       "    </tr>\n",
       "    <tr>\n",
       "      <th>3</th>\n",
       "      <td>Anambra</td>\n",
       "      <td>Detached duplex</td>\n",
       "      <td>5.0</td>\n",
       "      <td>2.0</td>\n",
       "      <td>4.0</td>\n",
       "      <td>2410306.756</td>\n",
       "    </tr>\n",
       "    <tr>\n",
       "      <th>4</th>\n",
       "      <td>Kogi</td>\n",
       "      <td>Terrace duplex</td>\n",
       "      <td>NaN</td>\n",
       "      <td>5.0</td>\n",
       "      <td>6.0</td>\n",
       "      <td>2600700.898</td>\n",
       "    </tr>\n",
       "  </tbody>\n",
       "</table>\n",
       "</div>"
      ],
      "text/plain": [
       "       loc                 title  bedroom  bathroom  parking_space  \\\n",
       "0  Katsina  Semi-detached duplex      2.0       2.0            1.0   \n",
       "1     Ondo             Apartment      NaN       2.0            4.0   \n",
       "2    Ekiti                   NaN      7.0       5.0            NaN   \n",
       "3  Anambra       Detached duplex      5.0       2.0            4.0   \n",
       "4     Kogi        Terrace duplex      NaN       5.0            6.0   \n",
       "\n",
       "         price  \n",
       "0  1149999.565  \n",
       "1  1672416.689  \n",
       "2  3364799.814  \n",
       "3  2410306.756  \n",
       "4  2600700.898  "
      ]
     },
     "execution_count": 367,
     "metadata": {},
     "output_type": "execute_result"
    }
   ],
   "source": [
    "df2 = df1.drop(['ID'],axis='columns')\n",
    "df2.head()"
   ]
  },
  {
   "cell_type": "code",
   "execution_count": null,
   "id": "8066e32f-4fdd-4002-b67b-ef59c1d33f91",
   "metadata": {},
   "outputs": [],
   "source": [
    "# Find the number of empty values per column"
   ]
  },
  {
   "cell_type": "code",
   "execution_count": 368,
   "id": "5dc76197-c631-4d2f-965e-38f8f5c3ee72",
   "metadata": {
    "tags": []
   },
   "outputs": [
    {
     "data": {
      "text/plain": [
       "loc              1813\n",
       "title            1722\n",
       "bedroom          1799\n",
       "bathroom         1805\n",
       "parking_space    1811\n",
       "price               0\n",
       "dtype: int64"
      ]
     },
     "execution_count": 368,
     "metadata": {},
     "output_type": "execute_result"
    }
   ],
   "source": [
    "df2.isnull().sum()"
   ]
  },
  {
   "cell_type": "code",
   "execution_count": null,
   "id": "0ca39b13-3bcc-4809-9750-6305ccdd5c34",
   "metadata": {},
   "outputs": [],
   "source": [
    "# Drop the number of empty values per column"
   ]
  },
  {
   "cell_type": "code",
   "execution_count": 370,
   "id": "d12f1906-6afe-4097-aa05-57b0061fce76",
   "metadata": {
    "tags": []
   },
   "outputs": [
    {
     "data": {
      "text/plain": [
       "loc              0\n",
       "title            0\n",
       "bedroom          0\n",
       "bathroom         0\n",
       "parking_space    0\n",
       "price            0\n",
       "dtype: int64"
      ]
     },
     "execution_count": 370,
     "metadata": {},
     "output_type": "execute_result"
    }
   ],
   "source": [
    "df3 = df2.dropna()\n",
    "df3.isnull().sum()"
   ]
  },
  {
   "cell_type": "code",
   "execution_count": null,
   "id": "48061f70-4eb5-45e5-93d7-e7dc05d450a7",
   "metadata": {},
   "outputs": [],
   "source": [
    "#Find the number of rows and columns available after dropping the empty values(This is small for train test)"
   ]
  },
  {
   "cell_type": "code",
   "execution_count": 371,
   "id": "5b680a62-1519-455b-9a75-2200116f299b",
   "metadata": {
    "tags": []
   },
   "outputs": [
    {
     "data": {
      "text/plain": [
       "(5689, 6)"
      ]
     },
     "execution_count": 371,
     "metadata": {},
     "output_type": "execute_result"
    }
   ],
   "source": [
    "df3.shape"
   ]
  },
  {
   "cell_type": "code",
   "execution_count": null,
   "id": "3e1aa94a-e629-44aa-b5ec-8f671a9feb5a",
   "metadata": {},
   "outputs": [],
   "source": [
    "#Drop empty cells on Loc column and title column"
   ]
  },
  {
   "cell_type": "code",
   "execution_count": 372,
   "id": "b05ec702-5835-43d9-8358-74c7a290bd9b",
   "metadata": {
    "tags": []
   },
   "outputs": [],
   "source": [
    "df4 = df2.dropna(subset=['loc', 'title'])"
   ]
  },
  {
   "cell_type": "code",
   "execution_count": null,
   "id": "7ae02355-21ca-43af-84ea-f80f350e565e",
   "metadata": {},
   "outputs": [],
   "source": [
    "#get the row and columns after dropping empty cells on loc and title columns"
   ]
  },
  {
   "cell_type": "code",
   "execution_count": 373,
   "id": "11f01689-527c-4cd3-969b-0407640c1119",
   "metadata": {
    "tags": []
   },
   "outputs": [
    {
     "data": {
      "text/plain": [
       "(10531, 6)"
      ]
     },
     "execution_count": 373,
     "metadata": {},
     "output_type": "execute_result"
    }
   ],
   "source": [
    "df4.shape"
   ]
  },
  {
   "cell_type": "code",
   "execution_count": null,
   "id": "ac2852ba-0e40-45c1-ad1a-e66b2594ee85",
   "metadata": {},
   "outputs": [],
   "source": [
    "# Find the remaining number of empty cells per column"
   ]
  },
  {
   "cell_type": "code",
   "execution_count": 374,
   "id": "20ef1d0b-7cfc-410c-b12c-45ed113b69b8",
   "metadata": {
    "tags": []
   },
   "outputs": [
    {
     "data": {
      "text/plain": [
       "loc                 0\n",
       "title               0\n",
       "bedroom          1675\n",
       "bathroom         1672\n",
       "parking_space    1671\n",
       "price               0\n",
       "dtype: int64"
      ]
     },
     "execution_count": 374,
     "metadata": {},
     "output_type": "execute_result"
    }
   ],
   "source": [
    "df4.isnull().sum()"
   ]
  },
  {
   "cell_type": "code",
   "execution_count": null,
   "id": "b24876b3-b1b5-4592-abc5-6c1cb8651939",
   "metadata": {},
   "outputs": [],
   "source": [
    "# calculate the mean of bedroom, bathroom and parking space and use to fill the empty cells and view the table"
   ]
  },
  {
   "cell_type": "code",
   "execution_count": 375,
   "id": "a86b3d63-d099-4dbb-a221-f6825632716b",
   "metadata": {
    "tags": []
   },
   "outputs": [],
   "source": [
    "df5 = df4.fillna(df4[['bedroom', 'bathroom', 'parking_space']].mean().round())"
   ]
  },
  {
   "cell_type": "code",
   "execution_count": 376,
   "id": "01ceafc4-2860-4134-b260-d64ea9aaf0e9",
   "metadata": {
    "tags": []
   },
   "outputs": [
    {
     "data": {
      "text/html": [
       "<div>\n",
       "<style scoped>\n",
       "    .dataframe tbody tr th:only-of-type {\n",
       "        vertical-align: middle;\n",
       "    }\n",
       "\n",
       "    .dataframe tbody tr th {\n",
       "        vertical-align: top;\n",
       "    }\n",
       "\n",
       "    .dataframe thead th {\n",
       "        text-align: right;\n",
       "    }\n",
       "</style>\n",
       "<table border=\"1\" class=\"dataframe\">\n",
       "  <thead>\n",
       "    <tr style=\"text-align: right;\">\n",
       "      <th></th>\n",
       "      <th>loc</th>\n",
       "      <th>title</th>\n",
       "      <th>bedroom</th>\n",
       "      <th>bathroom</th>\n",
       "      <th>parking_space</th>\n",
       "      <th>price</th>\n",
       "    </tr>\n",
       "  </thead>\n",
       "  <tbody>\n",
       "    <tr>\n",
       "      <th>0</th>\n",
       "      <td>Katsina</td>\n",
       "      <td>Semi-detached duplex</td>\n",
       "      <td>2.0</td>\n",
       "      <td>2.0</td>\n",
       "      <td>1.0</td>\n",
       "      <td>1149999.565</td>\n",
       "    </tr>\n",
       "    <tr>\n",
       "      <th>1</th>\n",
       "      <td>Ondo</td>\n",
       "      <td>Apartment</td>\n",
       "      <td>4.0</td>\n",
       "      <td>2.0</td>\n",
       "      <td>4.0</td>\n",
       "      <td>1672416.689</td>\n",
       "    </tr>\n",
       "    <tr>\n",
       "      <th>3</th>\n",
       "      <td>Anambra</td>\n",
       "      <td>Detached duplex</td>\n",
       "      <td>5.0</td>\n",
       "      <td>2.0</td>\n",
       "      <td>4.0</td>\n",
       "      <td>2410306.756</td>\n",
       "    </tr>\n",
       "    <tr>\n",
       "      <th>4</th>\n",
       "      <td>Kogi</td>\n",
       "      <td>Terrace duplex</td>\n",
       "      <td>4.0</td>\n",
       "      <td>5.0</td>\n",
       "      <td>6.0</td>\n",
       "      <td>2600700.898</td>\n",
       "    </tr>\n",
       "    <tr>\n",
       "      <th>5</th>\n",
       "      <td>Borno</td>\n",
       "      <td>Mansion</td>\n",
       "      <td>4.0</td>\n",
       "      <td>1.0</td>\n",
       "      <td>3.0</td>\n",
       "      <td>1341750.867</td>\n",
       "    </tr>\n",
       "  </tbody>\n",
       "</table>\n",
       "</div>"
      ],
      "text/plain": [
       "       loc                 title  bedroom  bathroom  parking_space  \\\n",
       "0  Katsina  Semi-detached duplex      2.0       2.0            1.0   \n",
       "1     Ondo             Apartment      4.0       2.0            4.0   \n",
       "3  Anambra       Detached duplex      5.0       2.0            4.0   \n",
       "4     Kogi        Terrace duplex      4.0       5.0            6.0   \n",
       "5    Borno               Mansion      4.0       1.0            3.0   \n",
       "\n",
       "         price  \n",
       "0  1149999.565  \n",
       "1  1672416.689  \n",
       "3  2410306.756  \n",
       "4  2600700.898  \n",
       "5  1341750.867  "
      ]
     },
     "execution_count": 376,
     "metadata": {},
     "output_type": "execute_result"
    }
   ],
   "source": [
    "df5.head()"
   ]
  },
  {
   "cell_type": "code",
   "execution_count": null,
   "id": "1f90b685-cf8a-4aa8-ba72-593a2127e5ea",
   "metadata": {},
   "outputs": [],
   "source": [
    "#Confirm that there is no more empty cell in each column"
   ]
  },
  {
   "cell_type": "code",
   "execution_count": 377,
   "id": "e7e62cd6-3bf2-434f-94db-c04401c3c0da",
   "metadata": {
    "tags": []
   },
   "outputs": [
    {
     "data": {
      "text/plain": [
       "loc              0\n",
       "title            0\n",
       "bedroom          0\n",
       "bathroom         0\n",
       "parking_space    0\n",
       "price            0\n",
       "dtype: int64"
      ]
     },
     "execution_count": 377,
     "metadata": {},
     "output_type": "execute_result"
    }
   ],
   "source": [
    "df5.isnull().sum()"
   ]
  },
  {
   "cell_type": "code",
   "execution_count": null,
   "id": "50ac5ae6-f862-4dae-8dd9-090f64f12d9d",
   "metadata": {},
   "outputs": [],
   "source": [
    "# Find the rows and rows by columns "
   ]
  },
  {
   "cell_type": "code",
   "execution_count": 378,
   "id": "3b140cd8-d3ee-48ac-8750-5af3e32413fa",
   "metadata": {
    "tags": []
   },
   "outputs": [
    {
     "data": {
      "text/plain": [
       "(10531, 6)"
      ]
     },
     "execution_count": 378,
     "metadata": {},
     "output_type": "execute_result"
    }
   ],
   "source": [
    "df5.shape"
   ]
  },
  {
   "cell_type": "code",
   "execution_count": null,
   "id": "9ba16a85-8b22-4c22-a8a8-774859af8e4e",
   "metadata": {},
   "outputs": [],
   "source": [
    "#Find the different unique values of bedroom"
   ]
  },
  {
   "cell_type": "code",
   "execution_count": 379,
   "id": "ae742b46-3a5f-483b-a163-da0ccb9f0d20",
   "metadata": {
    "tags": []
   },
   "outputs": [
    {
     "data": {
      "text/plain": [
       "array([2., 4., 5., 3., 1., 6., 9., 7., 8.])"
      ]
     },
     "execution_count": 379,
     "metadata": {},
     "output_type": "execute_result"
    }
   ],
   "source": [
    "df5['bedroom'].unique()"
   ]
  },
  {
   "cell_type": "code",
   "execution_count": null,
   "id": "68b07056-c4ef-4912-99c4-3f1636c61d2e",
   "metadata": {},
   "outputs": [],
   "source": [
    "#Find the different unique values of bathroom"
   ]
  },
  {
   "cell_type": "code",
   "execution_count": 380,
   "id": "1f88c8bc-d3e9-4108-be99-8b03e718d066",
   "metadata": {
    "tags": []
   },
   "outputs": [
    {
     "data": {
      "text/plain": [
       "array([2., 5., 1., 4., 3., 7., 6.])"
      ]
     },
     "execution_count": 380,
     "metadata": {},
     "output_type": "execute_result"
    }
   ],
   "source": [
    "df5['bathroom'].unique()"
   ]
  },
  {
   "cell_type": "code",
   "execution_count": null,
   "id": "83c28792-782f-4fd4-aa4a-5db2f2740ec8",
   "metadata": {},
   "outputs": [],
   "source": [
    "#Find the different unique value of title"
   ]
  },
  {
   "cell_type": "code",
   "execution_count": 381,
   "id": "97863e53-e8d4-49de-a303-0de35c4684d3",
   "metadata": {
    "tags": []
   },
   "outputs": [
    {
     "data": {
      "text/plain": [
       "array(['Semi-detached duplex', 'Apartment', 'Detached duplex',\n",
       "       'Terrace duplex', 'Mansion', 'Bungalow', 'Penthouse', 'Townhouse',\n",
       "       'Flat', 'Cottage'], dtype=object)"
      ]
     },
     "execution_count": 381,
     "metadata": {},
     "output_type": "execute_result"
    }
   ],
   "source": [
    "df5['title'].unique()"
   ]
  },
  {
   "cell_type": "code",
   "execution_count": null,
   "id": "17843284-8b37-4cb4-923b-2453b04eec3b",
   "metadata": {},
   "outputs": [],
   "source": [
    "#Find the number of unique values for Loc column"
   ]
  },
  {
   "cell_type": "code",
   "execution_count": 382,
   "id": "9cac07c6-fdb8-42f5-9f78-2783965342aa",
   "metadata": {
    "tags": []
   },
   "outputs": [
    {
     "data": {
      "text/plain": [
       "36"
      ]
     },
     "execution_count": 382,
     "metadata": {},
     "output_type": "execute_result"
    }
   ],
   "source": [
    " len(df5['loc'].unique())"
   ]
  },
  {
   "cell_type": "code",
   "execution_count": null,
   "id": "1a114654-17fa-4da6-9d9c-6c4ed4831f69",
   "metadata": {},
   "outputs": [],
   "source": [
    "#Find the number of houses per state in descending order"
   ]
  },
  {
   "cell_type": "code",
   "execution_count": 383,
   "id": "cfefffdb-699a-42a1-acfe-6fb95a240a44",
   "metadata": {
    "tags": []
   },
   "outputs": [
    {
     "data": {
      "text/plain": [
       "loc\n",
       "Cross River    317\n",
       "Imo            311\n",
       "Anambra        310\n",
       "Benue          309\n",
       "Kaduna         309\n",
       "Zamfara        307\n",
       "Yobe           307\n",
       "Borno          306\n",
       "Plateau        301\n",
       "Oyo            301\n",
       "Kano           301\n",
       "Ondo           300\n",
       "Ebonyi         298\n",
       "Ogun           298\n",
       "Niger          297\n",
       "Gombe          296\n",
       "Kebbi          295\n",
       "Nasarawa       295\n",
       "Katsina        292\n",
       "Jigawa         289\n",
       "Enugu          288\n",
       "Bauchi         288\n",
       "Sokoto         287\n",
       "Osun           286\n",
       "Ekiti          286\n",
       "Kwara          285\n",
       "Adamawa        285\n",
       "Bayelsa        284\n",
       "Taraba         281\n",
       "Kogi           279\n",
       "Rivers         278\n",
       "Delta          277\n",
       "Abia           276\n",
       "Lagos          274\n",
       "Akwa Ibom      273\n",
       "Edo            265\n",
       "Name: loc, dtype: int64"
      ]
     },
     "execution_count": 383,
     "metadata": {},
     "output_type": "execute_result"
    }
   ],
   "source": [
    "df5.groupby('loc')['loc'].agg('count').sort_values(ascending=False)"
   ]
  },
  {
   "cell_type": "code",
   "execution_count": null,
   "id": "7fb2bcd5-f3ec-4673-afaa-ec9409ca1ea2",
   "metadata": {},
   "outputs": [],
   "source": [
    "#Find the details of the prices(minumum value, maximum value etc)"
   ]
  },
  {
   "cell_type": "code",
   "execution_count": 384,
   "id": "9f20e407-1304-4d46-96e1-9ac81b546845",
   "metadata": {
    "tags": []
   },
   "outputs": [
    {
     "data": {
      "text/plain": [
       "count    1.053100e+04\n",
       "mean     2.127767e+06\n",
       "std      1.069676e+06\n",
       "min      4.319673e+05\n",
       "25%      1.391271e+06\n",
       "50%      1.888006e+06\n",
       "75%      2.571146e+06\n",
       "max      1.656849e+07\n",
       "Name: price, dtype: float64"
      ]
     },
     "execution_count": 384,
     "metadata": {},
     "output_type": "execute_result"
    }
   ],
   "source": [
    " df5.price.describe()"
   ]
  },
  {
   "cell_type": "code",
   "execution_count": null,
   "id": "d4d9d0cd-1e01-4db5-b747-8762df0026f4",
   "metadata": {},
   "outputs": [],
   "source": [
    "#Check for houses where number of bathroom is greater than number of bedroom + 2"
   ]
  },
  {
   "cell_type": "code",
   "execution_count": 77,
   "id": "76286eca-ca64-43d4-9428-cd50789dba2f",
   "metadata": {
    "tags": []
   },
   "outputs": [
    {
     "data": {
      "text/html": [
       "<div>\n",
       "<style scoped>\n",
       "    .dataframe tbody tr th:only-of-type {\n",
       "        vertical-align: middle;\n",
       "    }\n",
       "\n",
       "    .dataframe tbody tr th {\n",
       "        vertical-align: top;\n",
       "    }\n",
       "\n",
       "    .dataframe thead th {\n",
       "        text-align: right;\n",
       "    }\n",
       "</style>\n",
       "<table border=\"1\" class=\"dataframe\">\n",
       "  <thead>\n",
       "    <tr style=\"text-align: right;\">\n",
       "      <th></th>\n",
       "      <th>loc</th>\n",
       "      <th>title</th>\n",
       "      <th>bedroom</th>\n",
       "      <th>bathroom</th>\n",
       "      <th>parking_space</th>\n",
       "      <th>price</th>\n",
       "    </tr>\n",
       "  </thead>\n",
       "  <tbody>\n",
       "    <tr>\n",
       "      <th>20</th>\n",
       "      <td>Kaduna</td>\n",
       "      <td>Flat</td>\n",
       "      <td>4.0</td>\n",
       "      <td>7.0</td>\n",
       "      <td>2.0</td>\n",
       "      <td>1790256.208</td>\n",
       "    </tr>\n",
       "    <tr>\n",
       "      <th>33</th>\n",
       "      <td>Osun</td>\n",
       "      <td>Semi-detached duplex</td>\n",
       "      <td>3.0</td>\n",
       "      <td>7.0</td>\n",
       "      <td>3.0</td>\n",
       "      <td>1751635.699</td>\n",
       "    </tr>\n",
       "    <tr>\n",
       "      <th>43</th>\n",
       "      <td>Delta</td>\n",
       "      <td>Mansion</td>\n",
       "      <td>3.0</td>\n",
       "      <td>6.0</td>\n",
       "      <td>1.0</td>\n",
       "      <td>4223442.423</td>\n",
       "    </tr>\n",
       "    <tr>\n",
       "      <th>50</th>\n",
       "      <td>Bauchi</td>\n",
       "      <td>Mansion</td>\n",
       "      <td>4.0</td>\n",
       "      <td>7.0</td>\n",
       "      <td>2.0</td>\n",
       "      <td>3822595.558</td>\n",
       "    </tr>\n",
       "    <tr>\n",
       "      <th>63</th>\n",
       "      <td>Kano</td>\n",
       "      <td>Mansion</td>\n",
       "      <td>1.0</td>\n",
       "      <td>6.0</td>\n",
       "      <td>3.0</td>\n",
       "      <td>2687046.276</td>\n",
       "    </tr>\n",
       "    <tr>\n",
       "      <th>...</th>\n",
       "      <td>...</td>\n",
       "      <td>...</td>\n",
       "      <td>...</td>\n",
       "      <td>...</td>\n",
       "      <td>...</td>\n",
       "      <td>...</td>\n",
       "    </tr>\n",
       "    <tr>\n",
       "      <th>13966</th>\n",
       "      <td>Jigawa</td>\n",
       "      <td>Terrace duplex</td>\n",
       "      <td>4.0</td>\n",
       "      <td>7.0</td>\n",
       "      <td>6.0</td>\n",
       "      <td>1298995.338</td>\n",
       "    </tr>\n",
       "    <tr>\n",
       "      <th>13979</th>\n",
       "      <td>Ekiti</td>\n",
       "      <td>Semi-detached duplex</td>\n",
       "      <td>1.0</td>\n",
       "      <td>6.0</td>\n",
       "      <td>1.0</td>\n",
       "      <td>1256767.641</td>\n",
       "    </tr>\n",
       "    <tr>\n",
       "      <th>13989</th>\n",
       "      <td>Kebbi</td>\n",
       "      <td>Terrace duplex</td>\n",
       "      <td>4.0</td>\n",
       "      <td>7.0</td>\n",
       "      <td>2.0</td>\n",
       "      <td>1581061.171</td>\n",
       "    </tr>\n",
       "    <tr>\n",
       "      <th>13995</th>\n",
       "      <td>Edo</td>\n",
       "      <td>Bungalow</td>\n",
       "      <td>4.0</td>\n",
       "      <td>7.0</td>\n",
       "      <td>3.0</td>\n",
       "      <td>2367927.861</td>\n",
       "    </tr>\n",
       "    <tr>\n",
       "      <th>13996</th>\n",
       "      <td>Kaduna</td>\n",
       "      <td>Apartment</td>\n",
       "      <td>4.0</td>\n",
       "      <td>7.0</td>\n",
       "      <td>5.0</td>\n",
       "      <td>2228516.471</td>\n",
       "    </tr>\n",
       "  </tbody>\n",
       "</table>\n",
       "<p>897 rows × 6 columns</p>\n",
       "</div>"
      ],
      "text/plain": [
       "          loc                 title  bedroom  bathroom  parking_space  \\\n",
       "20     Kaduna                  Flat      4.0       7.0            2.0   \n",
       "33       Osun  Semi-detached duplex      3.0       7.0            3.0   \n",
       "43      Delta               Mansion      3.0       6.0            1.0   \n",
       "50     Bauchi               Mansion      4.0       7.0            2.0   \n",
       "63       Kano               Mansion      1.0       6.0            3.0   \n",
       "...       ...                   ...      ...       ...            ...   \n",
       "13966  Jigawa        Terrace duplex      4.0       7.0            6.0   \n",
       "13979   Ekiti  Semi-detached duplex      1.0       6.0            1.0   \n",
       "13989   Kebbi        Terrace duplex      4.0       7.0            2.0   \n",
       "13995     Edo              Bungalow      4.0       7.0            3.0   \n",
       "13996  Kaduna             Apartment      4.0       7.0            5.0   \n",
       "\n",
       "             price  \n",
       "20     1790256.208  \n",
       "33     1751635.699  \n",
       "43     4223442.423  \n",
       "50     3822595.558  \n",
       "63     2687046.276  \n",
       "...            ...  \n",
       "13966  1298995.338  \n",
       "13979  1256767.641  \n",
       "13989  1581061.171  \n",
       "13995  2367927.861  \n",
       "13996  2228516.471  \n",
       "\n",
       "[897 rows x 6 columns]"
      ]
     },
     "execution_count": 77,
     "metadata": {},
     "output_type": "execute_result"
    }
   ],
   "source": [
    "df5[df5.bathroom > df5.bedroom+2]"
   ]
  },
  {
   "cell_type": "code",
   "execution_count": null,
   "id": "97157235-528d-4a3b-ae14-0f821472279e",
   "metadata": {},
   "outputs": [],
   "source": [
    "# Create data where Number of bathroom is less than or equal to number of bedroom +1"
   ]
  },
  {
   "cell_type": "code",
   "execution_count": 385,
   "id": "b5872992-3b81-4060-a44d-3d4771988f0d",
   "metadata": {
    "tags": []
   },
   "outputs": [
    {
     "data": {
      "text/plain": [
       "(8860, 6)"
      ]
     },
     "execution_count": 385,
     "metadata": {},
     "output_type": "execute_result"
    }
   ],
   "source": [
    "df6 = df5[df5.bathroom <= df5.bedroom+1]\n",
    "df6.shape"
   ]
  },
  {
   "cell_type": "code",
   "execution_count": null,
   "id": "44b7d103-090f-41c6-8157-fbd2e48f3646",
   "metadata": {},
   "outputs": [],
   "source": [
    "# Calculate total amount generated per state \n",
    "#This will be used to convert loc column to numeric value"
   ]
  },
  {
   "cell_type": "code",
   "execution_count": 386,
   "id": "34ab9057-cdce-439a-af9c-592ced339fd5",
   "metadata": {
    "tags": []
   },
   "outputs": [
    {
     "name": "stdout",
     "output_type": "stream",
     "text": [
      "loc\n",
      "Lagos          9.983502e+08\n",
      "Bayelsa        7.578156e+08\n",
      "Rivers         7.054631e+08\n",
      "Cross River    6.992054e+08\n",
      "Ogun           6.756721e+08\n",
      "Akwa Ibom      6.403104e+08\n",
      "Delta          6.327203e+08\n",
      "Anambra        6.245961e+08\n",
      "Oyo            5.968043e+08\n",
      "Ondo           5.857056e+08\n",
      "Enugu          5.624396e+08\n",
      "Kano           5.376484e+08\n",
      "Ekiti          5.332127e+08\n",
      "Osun           5.322045e+08\n",
      "Edo            5.253591e+08\n",
      "Imo            5.251792e+08\n",
      "Nasarawa       5.138131e+08\n",
      "Katsina        5.034000e+08\n",
      "Benue          5.029092e+08\n",
      "Plateau        5.017515e+08\n",
      "Kaduna         4.925409e+08\n",
      "Niger          4.854118e+08\n",
      "Adamawa        4.726390e+08\n",
      "Kwara          4.665585e+08\n",
      "Taraba         4.586960e+08\n",
      "Gombe          4.563230e+08\n",
      "Yobe           4.518517e+08\n",
      "Borno          4.494776e+08\n",
      "Zamfara        4.450072e+08\n",
      "Kogi           4.289822e+08\n",
      "Ebonyi         4.273840e+08\n",
      "Bauchi         4.270863e+08\n",
      "Kebbi          4.258760e+08\n",
      "Jigawa         4.134555e+08\n",
      "Sokoto         4.070797e+08\n",
      "Abia           3.998397e+08\n",
      "Name: price, dtype: float64\n"
     ]
    }
   ],
   "source": [
    "dfsum_by_loc = df6.groupby('loc')['price'].agg('sum').sort_values(ascending=False)\n",
    "print(dfsum_by_loc)"
   ]
  },
  {
   "cell_type": "code",
   "execution_count": 387,
   "id": "70d745b5-e0a1-4909-8ef3-3126e9145467",
   "metadata": {},
   "outputs": [
    {
     "data": {
      "text/plain": [
       "(8860, 6)"
      ]
     },
     "execution_count": 387,
     "metadata": {},
     "output_type": "execute_result"
    }
   ],
   "source": [
    "df6.shape"
   ]
  },
  {
   "cell_type": "code",
   "execution_count": null,
   "id": "f514fcb8-a045-468a-a94b-e7bb22ea3462",
   "metadata": {},
   "outputs": [],
   "source": [
    "# use dummies to convert the title column to numeric value\n",
    "# The title for the present reference row will be 1 while the others will be 0 at every instance"
   ]
  },
  {
   "cell_type": "code",
   "execution_count": 388,
   "id": "5d7555f1-152e-461f-9305-cc7ff12eb257",
   "metadata": {
    "tags": []
   },
   "outputs": [
    {
     "data": {
      "text/html": [
       "<div>\n",
       "<style scoped>\n",
       "    .dataframe tbody tr th:only-of-type {\n",
       "        vertical-align: middle;\n",
       "    }\n",
       "\n",
       "    .dataframe tbody tr th {\n",
       "        vertical-align: top;\n",
       "    }\n",
       "\n",
       "    .dataframe thead th {\n",
       "        text-align: right;\n",
       "    }\n",
       "</style>\n",
       "<table border=\"1\" class=\"dataframe\">\n",
       "  <thead>\n",
       "    <tr style=\"text-align: right;\">\n",
       "      <th></th>\n",
       "      <th>Apartment</th>\n",
       "      <th>Bungalow</th>\n",
       "      <th>Cottage</th>\n",
       "      <th>Detached duplex</th>\n",
       "      <th>Flat</th>\n",
       "      <th>Mansion</th>\n",
       "      <th>Penthouse</th>\n",
       "      <th>Semi-detached duplex</th>\n",
       "      <th>Terrace duplex</th>\n",
       "      <th>Townhouse</th>\n",
       "    </tr>\n",
       "  </thead>\n",
       "  <tbody>\n",
       "    <tr>\n",
       "      <th>0</th>\n",
       "      <td>0</td>\n",
       "      <td>0</td>\n",
       "      <td>0</td>\n",
       "      <td>0</td>\n",
       "      <td>0</td>\n",
       "      <td>0</td>\n",
       "      <td>0</td>\n",
       "      <td>1</td>\n",
       "      <td>0</td>\n",
       "      <td>0</td>\n",
       "    </tr>\n",
       "    <tr>\n",
       "      <th>1</th>\n",
       "      <td>1</td>\n",
       "      <td>0</td>\n",
       "      <td>0</td>\n",
       "      <td>0</td>\n",
       "      <td>0</td>\n",
       "      <td>0</td>\n",
       "      <td>0</td>\n",
       "      <td>0</td>\n",
       "      <td>0</td>\n",
       "      <td>0</td>\n",
       "    </tr>\n",
       "    <tr>\n",
       "      <th>3</th>\n",
       "      <td>0</td>\n",
       "      <td>0</td>\n",
       "      <td>0</td>\n",
       "      <td>1</td>\n",
       "      <td>0</td>\n",
       "      <td>0</td>\n",
       "      <td>0</td>\n",
       "      <td>0</td>\n",
       "      <td>0</td>\n",
       "      <td>0</td>\n",
       "    </tr>\n",
       "  </tbody>\n",
       "</table>\n",
       "</div>"
      ],
      "text/plain": [
       "   Apartment  Bungalow  Cottage  Detached duplex  Flat  Mansion  Penthouse  \\\n",
       "0          0         0        0                0     0        0          0   \n",
       "1          1         0        0                0     0        0          0   \n",
       "3          0         0        0                1     0        0          0   \n",
       "\n",
       "   Semi-detached duplex  Terrace duplex  Townhouse  \n",
       "0                     1               0          0  \n",
       "1                     0               0          0  \n",
       "3                     0               0          0  "
      ]
     },
     "execution_count": 388,
     "metadata": {},
     "output_type": "execute_result"
    }
   ],
   "source": [
    "dummies1 = pd.get_dummies(df6.title)\n",
    "dummies1.head(3)"
   ]
  },
  {
   "cell_type": "code",
   "execution_count": null,
   "id": "d7760f18-ff7c-447e-add5-331c609b6b53",
   "metadata": {},
   "outputs": [],
   "source": [
    "# Join the dummies with the df6"
   ]
  },
  {
   "cell_type": "code",
   "execution_count": 415,
   "id": "6d0fc2d6-ea7a-4ae8-930d-f3157f327b40",
   "metadata": {
    "tags": []
   },
   "outputs": [
    {
     "data": {
      "text/html": [
       "<div>\n",
       "<style scoped>\n",
       "    .dataframe tbody tr th:only-of-type {\n",
       "        vertical-align: middle;\n",
       "    }\n",
       "\n",
       "    .dataframe tbody tr th {\n",
       "        vertical-align: top;\n",
       "    }\n",
       "\n",
       "    .dataframe thead th {\n",
       "        text-align: right;\n",
       "    }\n",
       "</style>\n",
       "<table border=\"1\" class=\"dataframe\">\n",
       "  <thead>\n",
       "    <tr style=\"text-align: right;\">\n",
       "      <th></th>\n",
       "      <th>loc</th>\n",
       "      <th>title</th>\n",
       "      <th>bedroom</th>\n",
       "      <th>bathroom</th>\n",
       "      <th>parking_space</th>\n",
       "      <th>price</th>\n",
       "      <th>Apartment</th>\n",
       "      <th>Bungalow</th>\n",
       "      <th>Cottage</th>\n",
       "      <th>Detached duplex</th>\n",
       "      <th>Flat</th>\n",
       "      <th>Mansion</th>\n",
       "      <th>Penthouse</th>\n",
       "      <th>Semi-detached duplex</th>\n",
       "      <th>Terrace duplex</th>\n",
       "      <th>Townhouse</th>\n",
       "    </tr>\n",
       "  </thead>\n",
       "  <tbody>\n",
       "    <tr>\n",
       "      <th>0</th>\n",
       "      <td>Katsina</td>\n",
       "      <td>Semi-detached duplex</td>\n",
       "      <td>2.0</td>\n",
       "      <td>2.0</td>\n",
       "      <td>1.0</td>\n",
       "      <td>1149999.565</td>\n",
       "      <td>0</td>\n",
       "      <td>0</td>\n",
       "      <td>0</td>\n",
       "      <td>0</td>\n",
       "      <td>0</td>\n",
       "      <td>0</td>\n",
       "      <td>0</td>\n",
       "      <td>1</td>\n",
       "      <td>0</td>\n",
       "      <td>0</td>\n",
       "    </tr>\n",
       "    <tr>\n",
       "      <th>1</th>\n",
       "      <td>Ondo</td>\n",
       "      <td>Apartment</td>\n",
       "      <td>4.0</td>\n",
       "      <td>2.0</td>\n",
       "      <td>4.0</td>\n",
       "      <td>1672416.689</td>\n",
       "      <td>1</td>\n",
       "      <td>0</td>\n",
       "      <td>0</td>\n",
       "      <td>0</td>\n",
       "      <td>0</td>\n",
       "      <td>0</td>\n",
       "      <td>0</td>\n",
       "      <td>0</td>\n",
       "      <td>0</td>\n",
       "      <td>0</td>\n",
       "    </tr>\n",
       "    <tr>\n",
       "      <th>3</th>\n",
       "      <td>Anambra</td>\n",
       "      <td>Detached duplex</td>\n",
       "      <td>5.0</td>\n",
       "      <td>2.0</td>\n",
       "      <td>4.0</td>\n",
       "      <td>2410306.756</td>\n",
       "      <td>0</td>\n",
       "      <td>0</td>\n",
       "      <td>0</td>\n",
       "      <td>1</td>\n",
       "      <td>0</td>\n",
       "      <td>0</td>\n",
       "      <td>0</td>\n",
       "      <td>0</td>\n",
       "      <td>0</td>\n",
       "      <td>0</td>\n",
       "    </tr>\n",
       "  </tbody>\n",
       "</table>\n",
       "</div>"
      ],
      "text/plain": [
       "       loc                 title  bedroom  bathroom  parking_space  \\\n",
       "0  Katsina  Semi-detached duplex      2.0       2.0            1.0   \n",
       "1     Ondo             Apartment      4.0       2.0            4.0   \n",
       "3  Anambra       Detached duplex      5.0       2.0            4.0   \n",
       "\n",
       "         price  Apartment  Bungalow  Cottage  Detached duplex  Flat  Mansion  \\\n",
       "0  1149999.565          0         0        0                0     0        0   \n",
       "1  1672416.689          1         0        0                0     0        0   \n",
       "3  2410306.756          0         0        0                1     0        0   \n",
       "\n",
       "   Penthouse  Semi-detached duplex  Terrace duplex  Townhouse  \n",
       "0          0                     1               0          0  \n",
       "1          0                     0               0          0  \n",
       "3          0                     0               0          0  "
      ]
     },
     "execution_count": 415,
     "metadata": {},
     "output_type": "execute_result"
    }
   ],
   "source": [
    "df7 = pd.concat([df6,dummies1],axis='columns')\n",
    "df7.head(3)"
   ]
  },
  {
   "cell_type": "code",
   "execution_count": null,
   "id": "b14ef605-8c76-45ec-b114-7b6b80d788a9",
   "metadata": {},
   "outputs": [],
   "source": [
    "# Create a map for each loc value based on the ratio of value generated per state"
   ]
  },
  {
   "cell_type": "code",
   "execution_count": 416,
   "id": "72d8793d-3276-4f8c-8a42-c706b42da16b",
   "metadata": {
    "tags": []
   },
   "outputs": [
    {
     "name": "stdout",
     "output_type": "stream",
     "text": [
      "0        0.5\n",
      "1        0.5\n",
      "3        1.0\n",
      "4        0.1\n",
      "5        0.2\n",
      "        ... \n",
      "13987    0.5\n",
      "13990    0.1\n",
      "13992    1.0\n",
      "13994    0.3\n",
      "13997    0.5\n",
      "Name: loc, Length: 8860, dtype: float64\n"
     ]
    }
   ],
   "source": [
    "loc_map ={\n",
    "    'Lagos' : 3, 'Bayelsa' : 2.5, 'Rivers' : 1.5, 'Cross River' : 1, 'Ogun' : 1,  'Akwa Ibom' : 1, 'Delta' : 1, 'Oyo' : 1, 'Anambra': 1,\n",
    "    'Ondo': 0.5, 'Enugu': 0.5, 'Imo' : 0.5, 'Kano' : 0.5,  'Osun' :0.5, 'Nasarawa' : 0.5, 'Benue' : 0.5, 'Edo' : 0.5 , 'Katsina' : 0.5, 'Plateau' : 0.5, 'Kaduna' : 0.5,\n",
    "    'Niger' : 0.5, 'Ekiti' : 0.5, 'Kwara': 0.3, 'Gombe' : 0.3, 'Zamfara' : 0.3, 'Taraba' : 0.3, 'Adamawa' : 0.3, 'Yobe' : 0.2, 'Jigawa' : 0.2, \n",
    "    'Bauchi' : 0.2, 'Borno' : 0.2, 'Ebonyi' : 0.2, 'Sokoto'    : 0.2, 'Abia' : 0.1, 'Kebbi' : 0.1, 'Kogi' :0.1\n",
    "}\n",
    "loc_data = df7['loc'].map(loc_map)\n",
    "print(loc_data)"
   ]
  },
  {
   "cell_type": "code",
   "execution_count": null,
   "id": "c07af79c-b0b9-48e5-b73b-1bfe188b6195",
   "metadata": {},
   "outputs": [],
   "source": [
    "# Replace the loc column with the eqivalent value generated"
   ]
  },
  {
   "cell_type": "code",
   "execution_count": 417,
   "id": "010486ca-28c4-4806-995b-96aecc3318bf",
   "metadata": {
    "tags": []
   },
   "outputs": [
    {
     "name": "stdout",
     "output_type": "stream",
     "text": [
      "       loc                 title  bedroom  bathroom  parking_space  \\\n",
      "0      0.5  Semi-detached duplex      2.0       2.0            1.0   \n",
      "1      0.5             Apartment      4.0       2.0            4.0   \n",
      "3      1.0       Detached duplex      5.0       2.0            4.0   \n",
      "4      0.1        Terrace duplex      4.0       5.0            6.0   \n",
      "5      0.2               Mansion      4.0       1.0            3.0   \n",
      "...    ...                   ...      ...       ...            ...   \n",
      "13987  0.5                  Flat      4.0       1.0            1.0   \n",
      "13990  0.1             Penthouse      8.0       7.0            3.0   \n",
      "13992  1.0               Cottage      1.0       2.0            2.0   \n",
      "13994  0.3       Detached duplex      8.0       1.0            6.0   \n",
      "13997  0.5              Bungalow      8.0       6.0            5.0   \n",
      "\n",
      "             price  \n",
      "0      1149999.565  \n",
      "1      1672416.689  \n",
      "3      2410306.756  \n",
      "4      2600700.898  \n",
      "5      1341750.867  \n",
      "...            ...  \n",
      "13987  1485856.252  \n",
      "13990  3086400.032  \n",
      "13992  1508351.845  \n",
      "13994  2837199.086  \n",
      "13997  2406812.693  \n",
      "\n",
      "[8860 rows x 6 columns]\n"
     ]
    }
   ],
   "source": [
    "df7 = df6.copy()\n",
    "df7['loc'] = loc_data\n",
    "print(df7)"
   ]
  },
  {
   "cell_type": "code",
   "execution_count": null,
   "id": "65af3796-122a-4660-85ed-19b3506b6702",
   "metadata": {},
   "outputs": [],
   "source": [
    "#Combine the the df7 with the dummies1 data"
   ]
  },
  {
   "cell_type": "code",
   "execution_count": 418,
   "id": "57dd0d13-92df-42ec-8327-47ad7f5f1642",
   "metadata": {
    "tags": []
   },
   "outputs": [
    {
     "data": {
      "text/html": [
       "<div>\n",
       "<style scoped>\n",
       "    .dataframe tbody tr th:only-of-type {\n",
       "        vertical-align: middle;\n",
       "    }\n",
       "\n",
       "    .dataframe tbody tr th {\n",
       "        vertical-align: top;\n",
       "    }\n",
       "\n",
       "    .dataframe thead th {\n",
       "        text-align: right;\n",
       "    }\n",
       "</style>\n",
       "<table border=\"1\" class=\"dataframe\">\n",
       "  <thead>\n",
       "    <tr style=\"text-align: right;\">\n",
       "      <th></th>\n",
       "      <th>loc</th>\n",
       "      <th>title</th>\n",
       "      <th>bedroom</th>\n",
       "      <th>bathroom</th>\n",
       "      <th>parking_space</th>\n",
       "      <th>price</th>\n",
       "      <th>Apartment</th>\n",
       "      <th>Bungalow</th>\n",
       "      <th>Cottage</th>\n",
       "      <th>Detached duplex</th>\n",
       "      <th>Flat</th>\n",
       "      <th>Mansion</th>\n",
       "      <th>Penthouse</th>\n",
       "      <th>Semi-detached duplex</th>\n",
       "      <th>Terrace duplex</th>\n",
       "      <th>Townhouse</th>\n",
       "    </tr>\n",
       "  </thead>\n",
       "  <tbody>\n",
       "    <tr>\n",
       "      <th>0</th>\n",
       "      <td>0.5</td>\n",
       "      <td>Semi-detached duplex</td>\n",
       "      <td>2.0</td>\n",
       "      <td>2.0</td>\n",
       "      <td>1.0</td>\n",
       "      <td>1149999.565</td>\n",
       "      <td>0</td>\n",
       "      <td>0</td>\n",
       "      <td>0</td>\n",
       "      <td>0</td>\n",
       "      <td>0</td>\n",
       "      <td>0</td>\n",
       "      <td>0</td>\n",
       "      <td>1</td>\n",
       "      <td>0</td>\n",
       "      <td>0</td>\n",
       "    </tr>\n",
       "    <tr>\n",
       "      <th>1</th>\n",
       "      <td>0.5</td>\n",
       "      <td>Apartment</td>\n",
       "      <td>4.0</td>\n",
       "      <td>2.0</td>\n",
       "      <td>4.0</td>\n",
       "      <td>1672416.689</td>\n",
       "      <td>1</td>\n",
       "      <td>0</td>\n",
       "      <td>0</td>\n",
       "      <td>0</td>\n",
       "      <td>0</td>\n",
       "      <td>0</td>\n",
       "      <td>0</td>\n",
       "      <td>0</td>\n",
       "      <td>0</td>\n",
       "      <td>0</td>\n",
       "    </tr>\n",
       "    <tr>\n",
       "      <th>3</th>\n",
       "      <td>1.0</td>\n",
       "      <td>Detached duplex</td>\n",
       "      <td>5.0</td>\n",
       "      <td>2.0</td>\n",
       "      <td>4.0</td>\n",
       "      <td>2410306.756</td>\n",
       "      <td>0</td>\n",
       "      <td>0</td>\n",
       "      <td>0</td>\n",
       "      <td>1</td>\n",
       "      <td>0</td>\n",
       "      <td>0</td>\n",
       "      <td>0</td>\n",
       "      <td>0</td>\n",
       "      <td>0</td>\n",
       "      <td>0</td>\n",
       "    </tr>\n",
       "  </tbody>\n",
       "</table>\n",
       "</div>"
      ],
      "text/plain": [
       "   loc                 title  bedroom  bathroom  parking_space        price  \\\n",
       "0  0.5  Semi-detached duplex      2.0       2.0            1.0  1149999.565   \n",
       "1  0.5             Apartment      4.0       2.0            4.0  1672416.689   \n",
       "3  1.0       Detached duplex      5.0       2.0            4.0  2410306.756   \n",
       "\n",
       "   Apartment  Bungalow  Cottage  Detached duplex  Flat  Mansion  Penthouse  \\\n",
       "0          0         0        0                0     0        0          0   \n",
       "1          1         0        0                0     0        0          0   \n",
       "3          0         0        0                1     0        0          0   \n",
       "\n",
       "   Semi-detached duplex  Terrace duplex  Townhouse  \n",
       "0                     1               0          0  \n",
       "1                     0               0          0  \n",
       "3                     0               0          0  "
      ]
     },
     "execution_count": 418,
     "metadata": {},
     "output_type": "execute_result"
    }
   ],
   "source": [
    "df8= pd.concat([df7, dummies1], axis='columns')\n",
    "df8.head(3)"
   ]
  },
  {
   "cell_type": "code",
   "execution_count": null,
   "id": "9ff7f71e-d8ae-4c74-aefe-f1634692ea15",
   "metadata": {},
   "outputs": [],
   "source": [
    "#Check the row by column of the df8 after combining df7 and dummies"
   ]
  },
  {
   "cell_type": "code",
   "execution_count": 419,
   "id": "3c58a2cd-af7f-4e7a-9858-436d26ad7167",
   "metadata": {
    "tags": []
   },
   "outputs": [
    {
     "data": {
      "text/plain": [
       "(8860, 16)"
      ]
     },
     "execution_count": 419,
     "metadata": {},
     "output_type": "execute_result"
    }
   ],
   "source": [
    "df8.shape"
   ]
  },
  {
   "cell_type": "code",
   "execution_count": null,
   "id": "0d98c234-1819-49c5-8eaf-6a90f0ea78d7",
   "metadata": {},
   "outputs": [],
   "source": [
    "#Drop the title column"
   ]
  },
  {
   "cell_type": "code",
   "execution_count": 420,
   "id": "dd154426-300d-4116-b91b-7c8e91f65b0b",
   "metadata": {
    "tags": []
   },
   "outputs": [
    {
     "data": {
      "text/html": [
       "<div>\n",
       "<style scoped>\n",
       "    .dataframe tbody tr th:only-of-type {\n",
       "        vertical-align: middle;\n",
       "    }\n",
       "\n",
       "    .dataframe tbody tr th {\n",
       "        vertical-align: top;\n",
       "    }\n",
       "\n",
       "    .dataframe thead th {\n",
       "        text-align: right;\n",
       "    }\n",
       "</style>\n",
       "<table border=\"1\" class=\"dataframe\">\n",
       "  <thead>\n",
       "    <tr style=\"text-align: right;\">\n",
       "      <th></th>\n",
       "      <th>loc</th>\n",
       "      <th>bedroom</th>\n",
       "      <th>bathroom</th>\n",
       "      <th>parking_space</th>\n",
       "      <th>price</th>\n",
       "      <th>Apartment</th>\n",
       "      <th>Bungalow</th>\n",
       "      <th>Cottage</th>\n",
       "      <th>Detached duplex</th>\n",
       "      <th>Flat</th>\n",
       "      <th>Mansion</th>\n",
       "      <th>Penthouse</th>\n",
       "      <th>Semi-detached duplex</th>\n",
       "      <th>Terrace duplex</th>\n",
       "      <th>Townhouse</th>\n",
       "    </tr>\n",
       "  </thead>\n",
       "  <tbody>\n",
       "    <tr>\n",
       "      <th>0</th>\n",
       "      <td>0.5</td>\n",
       "      <td>2.0</td>\n",
       "      <td>2.0</td>\n",
       "      <td>1.0</td>\n",
       "      <td>1149999.565</td>\n",
       "      <td>0</td>\n",
       "      <td>0</td>\n",
       "      <td>0</td>\n",
       "      <td>0</td>\n",
       "      <td>0</td>\n",
       "      <td>0</td>\n",
       "      <td>0</td>\n",
       "      <td>1</td>\n",
       "      <td>0</td>\n",
       "      <td>0</td>\n",
       "    </tr>\n",
       "    <tr>\n",
       "      <th>1</th>\n",
       "      <td>0.5</td>\n",
       "      <td>4.0</td>\n",
       "      <td>2.0</td>\n",
       "      <td>4.0</td>\n",
       "      <td>1672416.689</td>\n",
       "      <td>1</td>\n",
       "      <td>0</td>\n",
       "      <td>0</td>\n",
       "      <td>0</td>\n",
       "      <td>0</td>\n",
       "      <td>0</td>\n",
       "      <td>0</td>\n",
       "      <td>0</td>\n",
       "      <td>0</td>\n",
       "      <td>0</td>\n",
       "    </tr>\n",
       "  </tbody>\n",
       "</table>\n",
       "</div>"
      ],
      "text/plain": [
       "   loc  bedroom  bathroom  parking_space        price  Apartment  Bungalow  \\\n",
       "0  0.5      2.0       2.0            1.0  1149999.565          0         0   \n",
       "1  0.5      4.0       2.0            4.0  1672416.689          1         0   \n",
       "\n",
       "   Cottage  Detached duplex  Flat  Mansion  Penthouse  Semi-detached duplex  \\\n",
       "0        0                0     0        0          0                     1   \n",
       "1        0                0     0        0          0                     0   \n",
       "\n",
       "   Terrace duplex  Townhouse  \n",
       "0               0          0  \n",
       "1               0          0  "
      ]
     },
     "execution_count": 420,
     "metadata": {},
     "output_type": "execute_result"
    }
   ],
   "source": [
    "df9 = df8.drop('title', axis='columns')\n",
    "df9.head(2)"
   ]
  },
  {
   "cell_type": "code",
   "execution_count": null,
   "id": "5e295a5a-a918-43d8-ada1-bbfc38a0c3dd",
   "metadata": {},
   "outputs": [],
   "source": [
    "#Check the rows and columns of df9"
   ]
  },
  {
   "cell_type": "code",
   "execution_count": 421,
   "id": "1aee201d-45b9-4834-b38f-a993eddb87d0",
   "metadata": {
    "tags": []
   },
   "outputs": [
    {
     "data": {
      "text/plain": [
       "(8860, 15)"
      ]
     },
     "execution_count": 421,
     "metadata": {},
     "output_type": "execute_result"
    }
   ],
   "source": [
    "df9.shape"
   ]
  },
  {
   "cell_type": "code",
   "execution_count": null,
   "id": "bdd5388d-ad25-4d49-bdc3-8d84a3701880",
   "metadata": {},
   "outputs": [],
   "source": [
    "# Drop the dependent variable inorder to trains and test the independent variables"
   ]
  },
  {
   "cell_type": "code",
   "execution_count": 422,
   "id": "3be68322-3e57-42d0-af98-80f4b3e5dc05",
   "metadata": {
    "tags": []
   },
   "outputs": [
    {
     "data": {
      "text/html": [
       "<div>\n",
       "<style scoped>\n",
       "    .dataframe tbody tr th:only-of-type {\n",
       "        vertical-align: middle;\n",
       "    }\n",
       "\n",
       "    .dataframe tbody tr th {\n",
       "        vertical-align: top;\n",
       "    }\n",
       "\n",
       "    .dataframe thead th {\n",
       "        text-align: right;\n",
       "    }\n",
       "</style>\n",
       "<table border=\"1\" class=\"dataframe\">\n",
       "  <thead>\n",
       "    <tr style=\"text-align: right;\">\n",
       "      <th></th>\n",
       "      <th>loc</th>\n",
       "      <th>bedroom</th>\n",
       "      <th>bathroom</th>\n",
       "      <th>parking_space</th>\n",
       "      <th>Apartment</th>\n",
       "      <th>Bungalow</th>\n",
       "      <th>Cottage</th>\n",
       "      <th>Detached duplex</th>\n",
       "      <th>Flat</th>\n",
       "      <th>Mansion</th>\n",
       "      <th>Penthouse</th>\n",
       "      <th>Semi-detached duplex</th>\n",
       "      <th>Terrace duplex</th>\n",
       "      <th>Townhouse</th>\n",
       "    </tr>\n",
       "  </thead>\n",
       "  <tbody>\n",
       "    <tr>\n",
       "      <th>0</th>\n",
       "      <td>0.5</td>\n",
       "      <td>2.0</td>\n",
       "      <td>2.0</td>\n",
       "      <td>1.0</td>\n",
       "      <td>0</td>\n",
       "      <td>0</td>\n",
       "      <td>0</td>\n",
       "      <td>0</td>\n",
       "      <td>0</td>\n",
       "      <td>0</td>\n",
       "      <td>0</td>\n",
       "      <td>1</td>\n",
       "      <td>0</td>\n",
       "      <td>0</td>\n",
       "    </tr>\n",
       "    <tr>\n",
       "      <th>1</th>\n",
       "      <td>0.5</td>\n",
       "      <td>4.0</td>\n",
       "      <td>2.0</td>\n",
       "      <td>4.0</td>\n",
       "      <td>1</td>\n",
       "      <td>0</td>\n",
       "      <td>0</td>\n",
       "      <td>0</td>\n",
       "      <td>0</td>\n",
       "      <td>0</td>\n",
       "      <td>0</td>\n",
       "      <td>0</td>\n",
       "      <td>0</td>\n",
       "      <td>0</td>\n",
       "    </tr>\n",
       "    <tr>\n",
       "      <th>3</th>\n",
       "      <td>1.0</td>\n",
       "      <td>5.0</td>\n",
       "      <td>2.0</td>\n",
       "      <td>4.0</td>\n",
       "      <td>0</td>\n",
       "      <td>0</td>\n",
       "      <td>0</td>\n",
       "      <td>1</td>\n",
       "      <td>0</td>\n",
       "      <td>0</td>\n",
       "      <td>0</td>\n",
       "      <td>0</td>\n",
       "      <td>0</td>\n",
       "      <td>0</td>\n",
       "    </tr>\n",
       "  </tbody>\n",
       "</table>\n",
       "</div>"
      ],
      "text/plain": [
       "   loc  bedroom  bathroom  parking_space  Apartment  Bungalow  Cottage  \\\n",
       "0  0.5      2.0       2.0            1.0          0         0        0   \n",
       "1  0.5      4.0       2.0            4.0          1         0        0   \n",
       "3  1.0      5.0       2.0            4.0          0         0        0   \n",
       "\n",
       "   Detached duplex  Flat  Mansion  Penthouse  Semi-detached duplex  \\\n",
       "0                0     0        0          0                     1   \n",
       "1                0     0        0          0                     0   \n",
       "3                1     0        0          0                     0   \n",
       "\n",
       "   Terrace duplex  Townhouse  \n",
       "0               0          0  \n",
       "1               0          0  \n",
       "3               0          0  "
      ]
     },
     "execution_count": 422,
     "metadata": {},
     "output_type": "execute_result"
    }
   ],
   "source": [
    "X = df9.drop(['price'],axis='columns')\n",
    "X.head(3)"
   ]
  },
  {
   "cell_type": "code",
   "execution_count": null,
   "id": "30c1719e-f1dd-4867-8197-00f52a056bf9",
   "metadata": {},
   "outputs": [],
   "source": [
    "# Seperate the dependent variables in order to train and test"
   ]
  },
  {
   "cell_type": "code",
   "execution_count": 423,
   "id": "2c7335e6-a620-41ce-ac16-5fcc6906f20f",
   "metadata": {
    "tags": []
   },
   "outputs": [
    {
     "data": {
      "text/plain": [
       "0    1149999.565\n",
       "1    1672416.689\n",
       "3    2410306.756\n",
       "4    2600700.898\n",
       "5    1341750.867\n",
       "Name: price, dtype: float64"
      ]
     },
     "execution_count": 423,
     "metadata": {},
     "output_type": "execute_result"
    }
   ],
   "source": [
    "Y = df9.price\n",
    "Y.head()"
   ]
  },
  {
   "cell_type": "code",
   "execution_count": null,
   "id": "b5cfe417-2482-4c15-afe9-81cd2cb303c3",
   "metadata": {},
   "outputs": [],
   "source": [
    "#Import the sklearn Model_selection"
   ]
  },
  {
   "cell_type": "code",
   "execution_count": 424,
   "id": "6bc4e6f1-5df2-4ddd-b19a-6115f76734c6",
   "metadata": {
    "tags": []
   },
   "outputs": [],
   "source": [
    "from sklearn.model_selection import train_test_split\n",
    "X_train, X_test, Y_train, Y_test = train_test_split(X,Y,test_size=0.2,random_state=10)"
   ]
  },
  {
   "cell_type": "code",
   "execution_count": null,
   "id": "cd2c8461-b760-455a-9841-473c38731ab0",
   "metadata": {},
   "outputs": [],
   "source": [
    "# Import Linear Regression for evaluation"
   ]
  },
  {
   "cell_type": "code",
   "execution_count": 425,
   "id": "b6904610-43da-488e-ad96-fbf67e363dac",
   "metadata": {
    "tags": []
   },
   "outputs": [
    {
     "data": {
      "text/plain": [
       "0.8040873856526284"
      ]
     },
     "execution_count": 425,
     "metadata": {},
     "output_type": "execute_result"
    }
   ],
   "source": [
    "from sklearn.linear_model import LinearRegression\n",
    "lr_clf = LinearRegression()\n",
    "lr_clf.fit(X,Y)\n",
    "lr_clf.score(X_test, Y_test)"
   ]
  },
  {
   "cell_type": "code",
   "execution_count": null,
   "id": "fb8d1eb5-1c48-496b-8023-8d051b07dfd0",
   "metadata": {},
   "outputs": [],
   "source": [
    "# Import shufflesplit and crossvalidation"
   ]
  },
  {
   "cell_type": "code",
   "execution_count": 426,
   "id": "15486f25-556a-46b8-9024-385203ed3cfc",
   "metadata": {
    "tags": []
   },
   "outputs": [
    {
     "data": {
      "text/plain": [
       "array([0.78494142, 0.80329884, 0.73267765, 0.75145249, 0.76028752])"
      ]
     },
     "execution_count": 426,
     "metadata": {},
     "output_type": "execute_result"
    }
   ],
   "source": [
    "from sklearn.model_selection import ShuffleSplit\n",
    "from sklearn.model_selection import cross_val_score\n",
    "\n",
    "cv = ShuffleSplit(n_splits=5, test_size=0.2, random_state=0)\n",
    "\n",
    "cross_val_score(LinearRegression(), X, Y, cv=cv)"
   ]
  },
  {
   "cell_type": "code",
   "execution_count": null,
   "id": "ee9d0b3a-f2d6-486a-ae20-1cc896b5a734",
   "metadata": {},
   "outputs": [],
   "source": [
    "#Create a function to be able to implement the loc numerical values"
   ]
  },
  {
   "cell_type": "code",
   "execution_count": 510,
   "id": "7050cbac-79c4-496e-b563-7c39078915b1",
   "metadata": {},
   "outputs": [],
   "source": [
    "def predict_loc(loc): \n",
    "    if (loc =='Lagos'): \n",
    "        return float(3) \n",
    "    elif (loc == 'Bayelsa'): \n",
    "        return float(2.5)\n",
    "    elif (loc == 'Rivers'): \n",
    "        return float(1.5)\n",
    "    elif (loc =='Cross River') | (loc =='Ogun') | (loc =='Akwa Ibom') | (loc =='Delta') | (loc =='Oyo') | (loc =='Anambra'):\n",
    "        return float(1.0)\n",
    "    elif (loc =='Ondo') | (loc =='Enugu') | (loc =='Imo') | (loc =='Kano') | (loc =='Osun') | (loc =='Nasarawa') | (loc =='Benue') | (loc =='Edo') | (loc =='Katsina') | (loc =='Plateau') | (loc =='Kaduna') | (loc =='Niger') | (loc =='Ekiti'):\n",
    "        return float(0.5)\n",
    "    elif (loc =='Kwara') | (loc =='Gombe') | (loc =='Zamfara') | (loc =='Taraba') | (loc =='Adamawa'):\n",
    "        return float(0.3)\n",
    "    elif (loc =='Yobe') | (loc =='Jigawa') | (loc =='Bauchi') | (loc =='Borno') | (loc =='Ebonyi') | (loc =='Sokoto'):\n",
    "        return float(0.2)\n",
    "    else:\n",
    "        return float(0.1) "
   ]
  },
  {
   "cell_type": "code",
   "execution_count": null,
   "id": "14ac5c57-afe5-49e2-8627-89cbf3ed429d",
   "metadata": {},
   "outputs": [],
   "source": [
    "# test and confirm the funtion is correct"
   ]
  },
  {
   "cell_type": "code",
   "execution_count": 515,
   "id": "51f447d8-743f-4e07-983c-16d784f0f5a8",
   "metadata": {
    "tags": []
   },
   "outputs": [
    {
     "data": {
      "text/plain": [
       "0.2"
      ]
     },
     "execution_count": 515,
     "metadata": {},
     "output_type": "execute_result"
    }
   ],
   "source": [
    "predict_loc('Jigawa')"
   ]
  },
  {
   "cell_type": "code",
   "execution_count": null,
   "id": "59bd16a7-ae12-4b9a-b1d1-0c5c5120d94c",
   "metadata": {},
   "outputs": [],
   "source": [
    "#create a function to test the model"
   ]
  },
  {
   "cell_type": "code",
   "execution_count": 536,
   "id": "267de9a2-ccf8-4689-aad5-957d9c62b22f",
   "metadata": {
    "tags": []
   },
   "outputs": [],
   "source": [
    "def predict_price(title,predict_loc,bedroom,bathroom,parking_space): \n",
    "    title_index = np.where(X.columns==title)[0][0]\n",
    "\n",
    "    x = np.zeros(len(X.columns))\n",
    "    x[0] = predict_loc\n",
    "    x[1] = bedroom\n",
    "    x[2] = bathroom\n",
    "    x[3] = parking_space\n",
    "    if title_index >= 0:\n",
    "        x[title_index] = 1\n",
    "\n",
    "    return lr_clf.predict([x])[0]\n"
   ]
  },
  {
   "cell_type": "code",
   "execution_count": null,
   "id": "b2b0947c-2465-4f10-8d32-3c565cdb8d2d",
   "metadata": {},
   "outputs": [],
   "source": [
    "#Test the Model"
   ]
  },
  {
   "cell_type": "code",
   "execution_count": 520,
   "id": "0da22048-6961-444d-92a8-eb768c774a41",
   "metadata": {
    "tags": []
   },
   "outputs": [
    {
     "name": "stderr",
     "output_type": "stream",
     "text": [
      "C:\\Users\\DAVID\\anaconda3\\Lib\\site-packages\\sklearn\\base.py:439: UserWarning: X does not have valid feature names, but LinearRegression was fitted with feature names\n",
      "  warnings.warn(\n"
     ]
    },
    {
     "data": {
      "text/plain": [
       "2325790.3905063607"
      ]
     },
     "execution_count": 520,
     "metadata": {},
     "output_type": "execute_result"
    }
   ],
   "source": [
    "predict_price('Penthouse', predict_loc('Kano'), 4, 1, 2)"
   ]
  },
  {
   "cell_type": "code",
   "execution_count": 521,
   "id": "1612a15c-dd2f-48ee-9ccc-e525bdb931f4",
   "metadata": {
    "tags": []
   },
   "outputs": [
    {
     "name": "stderr",
     "output_type": "stream",
     "text": [
      "C:\\Users\\DAVID\\anaconda3\\Lib\\site-packages\\sklearn\\base.py:439: UserWarning: X does not have valid feature names, but LinearRegression was fitted with feature names\n",
      "  warnings.warn(\n"
     ]
    },
    {
     "data": {
      "text/plain": [
       "791212.2139379717"
      ]
     },
     "execution_count": 521,
     "metadata": {},
     "output_type": "execute_result"
    }
   ],
   "source": [
    "predict_price('Apartment', predict_loc('Adamawa'), 2, 2, 4)"
   ]
  },
  {
   "cell_type": "code",
   "execution_count": 522,
   "id": "19b002b3-1edd-4d43-a643-3b2a97d76b2e",
   "metadata": {
    "tags": []
   },
   "outputs": [
    {
     "name": "stderr",
     "output_type": "stream",
     "text": [
      "C:\\Users\\DAVID\\anaconda3\\Lib\\site-packages\\sklearn\\base.py:439: UserWarning: X does not have valid feature names, but LinearRegression was fitted with feature names\n",
      "  warnings.warn(\n"
     ]
    },
    {
     "data": {
      "text/plain": [
       "4700911.858166555"
      ]
     },
     "execution_count": 522,
     "metadata": {},
     "output_type": "execute_result"
    }
   ],
   "source": [
    "predict_price('Mansion', predict_loc('Benue'), 9, 4, 3)"
   ]
  },
  {
   "cell_type": "code",
   "execution_count": 527,
   "id": "4d30d8f0-79e6-4562-a8e0-c0e13ad3a610",
   "metadata": {
    "tags": []
   },
   "outputs": [],
   "source": [
    "import pickle\n",
    "with open('Housing_prices_model.pickle','wb') as f:\n",
    "    pickle.dump(lr_clf,f)"
   ]
  },
  {
   "cell_type": "code",
   "execution_count": 550,
   "id": "4563c525-250f-4c59-b0da-1128a5ce4207",
   "metadata": {
    "tags": []
   },
   "outputs": [],
   "source": [
    "import json\n",
    "columns = {\n",
    "    'data_columns' : [col.lower() for col in X.columns]\n",
    "}\n",
    "with open(\"columns.json\",\"w\") as f:\n",
    "    f.write(json.dumps(columns))"
   ]
  },
  {
   "cell_type": "code",
   "execution_count": null,
   "id": "a93fcf49-bcdd-498c-88dd-f418e1f8ece1",
   "metadata": {},
   "outputs": [],
   "source": []
  }
 ],
 "metadata": {
  "kernelspec": {
   "display_name": "Python 3 (ipykernel)",
   "language": "python",
   "name": "python3"
  },
  "language_info": {
   "codemirror_mode": {
    "name": "ipython",
    "version": 3
   },
   "file_extension": ".py",
   "mimetype": "text/x-python",
   "name": "python",
   "nbconvert_exporter": "python",
   "pygments_lexer": "ipython3",
   "version": "3.11.3"
  }
 },
 "nbformat": 4,
 "nbformat_minor": 5
}
